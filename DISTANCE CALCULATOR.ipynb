{
 "cells": [
  {
   "cell_type": "markdown",
   "metadata": {},
   "source": [
    "# FUNCTIONAL ROUTE DISTANCE CALCULATOR"
   ]
  },
  {
   "attachments": {},
   "cell_type": "markdown",
   "metadata": {},
   "source": [
    "For a sequence of coordinates entered via keyboard input, calculate the distance between each successive pair in nautical miles and the cumulative route distance of the route."
   ]
  },
  {
   "cell_type": "code",
   "execution_count": 7,
   "metadata": {},
   "outputs": [],
   "source": [
    "# file: route_calculator.py \n",
    "\n",
    "#import math library\n",
    "import math\n",
    "\n",
    "# Converts a single coordinate (degrees, minutes, seconds) into its corresponding decimal representation.\n",
    "def deg_min_sec_to_decimal(deg, min, sec):     \n",
    "    min_to_deg = min/60.0\n",
    "    sec_to_deg = sec/3600.0\n",
    "    if deg < 0.0:\n",
    "        degrees=deg - min_to_deg - sec_to_deg\n",
    "    else:\n",
    "        degrees=deg + min_to_deg + sec_to_deg\n",
    "    return degrees\n",
    "\n",
    "# Converts this decimalized coordinate into radians.\n",
    "def deg_to_rad(degrees):\n",
    "    radians = (math.pi/180) * degrees\n",
    "    return radians\n",
    "\n",
    "# Calculates the distance between two coordinates.\n",
    "def calc_distance(lat1,lon1,lat2,lon2):\n",
    "    d = math.acos(math.sin(lat1) * math.sin(lat2) + math.cos(lat1) * math.cos(lat2) * math.cos(lon1-lon2))\n",
    "    return d\n",
    "\n",
    "# Converts the distance from radians to nautical miles.\n",
    "def rad_to_NM(radians):\n",
    "    distance_nm = ((180*60)/math.pi) * radians \n",
    "    return distance_nm"
   ]
  },
  {
   "cell_type": "code",
   "execution_count": 6,
   "metadata": {},
   "outputs": [
    {
     "name": "stdout",
     "output_type": "stream",
     "text": [
      "Enter number of coordinates: 2\n",
      "Cordinate1:\n",
      "Enter Latitude\n",
      "Degrees:23\n",
      "Minutes:23\n",
      "Seconds:23\n",
      "Cordinate1:\n",
      "Enter Longitude\n",
      "Degrees:11\n",
      "Minutes:11\n",
      "Seconds:11\n",
      "You entered: (23.389722222222222,11.186388888888889)\n",
      "Cordinate2:\n",
      "Enter Latitude\n",
      "Degrees:22\n",
      "Minutes:22\n",
      "Seconds:22\n",
      "Cordinate2:\n",
      "Enter Longitude\n",
      "Degrees:22\n",
      "Minutes:22\n",
      "Seconds:22\n",
      "You entered: (22.372777777777777,22.372777777777777)\n",
      "Segment distance between 1 and 2 is: 621.2121566667137\n",
      "Total distance is: 621.2121566667137\n",
      "Program Complete.\n"
     ]
    }
   ],
   "source": [
    "#Gets Latitude in Degrees, Minutes, Seconds and converts it into its corresponding decimal representation.\n",
    "nu_of_coord = int(input('Enter number of coordinates: '))\n",
    "count = 1\n",
    "print ('Cordinate' + str(count) + ':')\n",
    "print ('Enter Latitude')\n",
    "lat1deg = int(input('Degrees:'))\n",
    "lat1min = int(input('Minutes:'))\n",
    "lat1sec = int(input('Seconds:'))\n",
    "degree_lat1 = deg_min_sec_to_decimal(lat1deg, lat1min, lat1sec)\n",
    "rad_lat1 = deg_to_rad(degree_lat1)\n",
    "\n",
    "print ('Cordinate' + str(count) + ':')\n",
    "print ('Enter Longitude')\n",
    "lon1deg = int(input('Degrees:'))\n",
    "lon1min = int(input('Minutes:'))\n",
    "lon1sec = int(input('Seconds:'))\n",
    "degree_lon1 = deg_min_sec_to_decimal(lon1deg, lon1min, lon1sec)\n",
    "rad_lon1 = deg_to_rad(degree_lon1)    \n",
    "print ('You entered: ' + '(' + str(degree_lat1) + ',' + str(degree_lon1) + ')')\n",
    "    \n",
    "count = 2\n",
    "total = 0\n",
    "while count <= nu_of_coord:\n",
    "    print ('Cordinate' + str(count) + ':')\n",
    "    print ('Enter Latitude')\n",
    "    lat2deg = int(input('Degrees:'))\n",
    "    lat2min = int(input('Minutes:'))\n",
    "    lat2sec = int(input('Seconds:'))\n",
    "    degree_lat2 = deg_min_sec_to_decimal(lat2deg, lat2min, lat2sec)\n",
    "    rad_lat2 = deg_to_rad(degree_lat2)\n",
    "    \n",
    "    print ('Cordinate' + str(count) + ':')\n",
    "    print ('Enter Longitude')\n",
    "    lon2deg = int(input('Degrees:'))\n",
    "    lon2min = int(input('Minutes:'))\n",
    "    lon2sec = int(input('Seconds:'))\n",
    "    degree_lon2 = deg_min_sec_to_decimal(lon2deg, lon2min, lon2sec)\n",
    "    rad_lon2 = deg_to_rad(degree_lon2)\n",
    "    \n",
    "    print ('You entered: ' + '(' + str(degree_lat2) + ',' + str(degree_lon2) + ')')\n",
    "    \n",
    "    distance_rad = calc_distance(rad_lat1,rad_lon1,rad_lat2,rad_lon2)\n",
    "    distance_nm = rad_to_NM(distance_rad)\n",
    "\n",
    "    print ('Segment distance between ' + str(count-1)+' and '+str(count)+' is: ' + str(distance_nm))\n",
    "    \n",
    "    total = total + distance_nm\n",
    "    count = count+1\n",
    "    rad_lat1 = rad_lat2\n",
    "    rad_lon1 = rad_lon2\n",
    "    \n",
    "print ('Total distance is: ' + str(total))\n",
    "print ('Program Complete.')\n",
    "\n",
    "# end of file"
   ]
  },
  {
   "cell_type": "code",
   "execution_count": null,
   "metadata": {},
   "outputs": [],
   "source": []
  }
 ],
 "metadata": {
  "kernelspec": {
   "display_name": "Python 3",
   "language": "python",
   "name": "python3"
  },
  "language_info": {
   "codemirror_mode": {
    "name": "ipython",
    "version": 3
   },
   "file_extension": ".py",
   "mimetype": "text/x-python",
   "name": "python",
   "nbconvert_exporter": "python",
   "pygments_lexer": "ipython3",
   "version": "3.7.4"
  }
 },
 "nbformat": 4,
 "nbformat_minor": 2
}
